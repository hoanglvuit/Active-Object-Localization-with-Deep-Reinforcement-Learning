{
 "cells": [
  {
   "cell_type": "code",
   "execution_count": 1,
   "metadata": {},
   "outputs": [],
   "source": [
    "# -*- coding: utf-8 -*-\n",
    "from utils.agent import *\n",
    "from utils.dataset import *\n",
    "\n",
    "\n",
    "\n",
    "from IPython.display import clear_output\n",
    "\n",
    "import sys\n",
    "import traceback\n",
    "import sys\n",
    "import os\n",
    "import tqdm.notebook as tq\n",
    "import seaborn as sns\n",
    "\n",
    "try:\n",
    "    if 'google.colab' in str(get_ipython()):\n",
    "        from google.colab import drive\n",
    "        drive.mount('/content/gdrive')\n",
    "        LOAD = True\n",
    "        SAVE_MODEL_PATH = '/content/gdrive/MyDrive/models/' + 'q_network'\n",
    "    else:\n",
    "        LOAD = False\n",
    "        SAVE_MODEL_PATH = \"./models/q_network\"\n",
    "except NameError:\n",
    "        LOAD = False\n",
    "        SAVE_MODEL_PATH = \"./models/q_network\"\n",
    "batch_size = 32\n",
    "PATH=\"./datasets/\"\n",
    "\n",
    "\n",
    "\n",
    "train_loader2012, val_loader2012 = read_voc_dataset(download=True, year='2012')\n",
    "train_loader2007, val_loader2007 = read_voc_dataset(download=True, year='2007')"
   ]
  },
  {
   "cell_type": "code",
   "execution_count": 2,
   "metadata": {
    "tags": []
   },
   "outputs": [],
   "source": [
    "classes = [ 'cat' , 'car' , 'dog' , 'aeroplane'] \n",
    "\n",
    "\n",
    "agents_per_class = {}\n",
    "datasets_per_class = sort_class_extract([train_loader2007, train_loader2012])\n",
    "datasets_eval_per_class = sort_class_extract([val_loader2007, val_loader2012])\n"
   ]
  },
  {
   "cell_type": "code",
   "execution_count": null,
   "metadata": {},
   "outputs": [],
   "source": [
    "for i in tq.tqdm(range(len(classes))):\n",
    "    classe = classes[i]\n",
    "    print(\"Classe \"+str(classe)+\"...\")\n",
    "    agents_per_class[classe] = Agent(classe, alpha=0.15, num_episodes=15, load=False)\n",
    "    agents_per_class[classe].train_validate(datasets_per_class[classe],datasets_eval_per_class[classe],classe)\n",
    "    del agents_per_class[classe]\n",
    "    torch.cuda.empty_cache()\n"
   ]
  }
 ],
 "metadata": {
  "kernelspec": {
   "display_name": "Python 3.8.7 64-bit",
   "metadata": {
    "interpreter": {
     "hash": "f71d188589fa6c8d31fecd7a0393a1752396fa7e40fa8670a86f2731027bd0ac"
    }
   },
   "name": "python3"
  },
  "language_info": {
   "codemirror_mode": {
    "name": "ipython",
    "version": 3
   },
   "file_extension": ".py",
   "mimetype": "text/x-python",
   "name": "python",
   "nbconvert_exporter": "python",
   "pygments_lexer": "ipython3",
   "version": "3.8.7-final"
  },
  "orig_nbformat": 2
 },
 "nbformat": 4,
 "nbformat_minor": 2
}
