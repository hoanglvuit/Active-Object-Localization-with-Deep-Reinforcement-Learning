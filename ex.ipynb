{
 "cells": [
  {
   "cell_type": "code",
   "execution_count": null,
   "metadata": {},
   "outputs": [],
   "source": [
    "%matplotlib inline\n",
    "from IPython.display import clear_output\n",
    "from utils.agent import *\n",
    "from utils.dataset import *\n",
    "from utils.models import *\n",
    "\n",
    "\n",
    "import math\n",
    "import random\n",
    "import numpy as np\n",
    "import matplotlib\n",
    "import matplotlib.pyplot as plt\n",
    "from collections import namedtuple\n",
    "from itertools import count\n",
    "from PIL import Image\n",
    "import torch.optim as optim\n",
    "import cv2 as cv\n",
    "import sys\n",
    "from torch.autograd import Variable\n",
    "import traceback\n",
    "import sys\n",
    "import os\n",
    "import matplotlib.pyplot as plt\n",
    "import matplotlib.patches as patches\n",
    "import random\n",
    "\n",
    "batch_size = 32\n",
    "PATH=\"./datasets/\"\n",
    "\n",
    "train_loader2012, val_loader2012 = read_voc_dataset(download=True, year='2012')\n",
    "train_loader2007, val_loader2007 = read_voc_dataset(download=True, year='2007')\n",
    "\n",
    "\n",
    "agents_per_class = {}\n",
    "datasets_per_class = sort_class_extract([val_loader2007, val_loader2012])"
   ]
  },
  {
   "cell_type": "code",
   "execution_count": null,
   "metadata": {},
   "outputs": [],
   "source": [
    "import torch\n",
    "from torchvision import transforms\n",
    "from PIL import Image\n",
    "\n",
    "# Hàm tiền xử lý giống như khi huấn luyện\n",
    "transform = transforms.Compose([\n",
    "    transforms.Resize((224, 224)),\n",
    "    transforms.ToTensor(),\n",
    "])\n",
    "\n",
    "# Hàm để đọc và chuyển đổi ảnh đời thực\n",
    "def preprocess_image(image_path):\n",
    "    image = Image.open(image_path).convert('RGB')  # Mở ảnh và chuyển đổi sang RGB\n",
    "    image = transform(image)  # Áp dụng các chuyển đổi\n",
    "    image = image.unsqueeze(0)  # Thêm batch dimension\n",
    "    return image\n",
    "\n",
    "classes = [ 'cat' , 'car' , 'dog' , 'aeroplane'] \n",
    "data_folder = '/kaggle/working/Active_Localization/realdata'\n"
   ]
  },
  {
   "cell_type": "code",
   "execution_count": null,
   "metadata": {},
   "outputs": [],
   "source": [
    "# Hàm để predict ảnh trong thư mục\n",
    "def predict_images_in_folder(folder_path,agent):\n",
    "    for root, dirs, files in os.walk(folder_path):\n",
    "        for file in files:\n",
    "            if file.lower().endswith(('jpg', 'jpeg', 'png', 'webp')):  # Kiểm tra định dạng file ảnh\n",
    "                image_path = os.path.join(root, file)\n",
    "                image_tensor = preprocess_image(image_path)\n",
    "                image_tensor = image_tensor.squeeze(0)\n",
    "                agent.predict_image(image_tensor, plot=True,choice = 0 )\n",
    "\n",
    "# Thực hiện dự đoán cho tất cả các ảnh trong từng thư mục class\n",
    "for class_name in classes:\n",
    "    agent = Agent(class_name, alpha=0.15, num_episodes=15, load=True)\n",
    "    class_folder = os.path.join(data_folder, class_name)\n",
    "    if os.path.exists(class_folder) and os.path.isdir(class_folder):\n",
    "        predict_images_in_folder(class_folder,agent)\n"
   ]
  }
 ],
 "metadata": {
  "language_info": {
   "name": "python"
  }
 },
 "nbformat": 4,
 "nbformat_minor": 2
}
