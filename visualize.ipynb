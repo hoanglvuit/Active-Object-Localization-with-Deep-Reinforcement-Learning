{
 "cells": [
  {
   "cell_type": "code",
   "execution_count": null,
   "metadata": {},
   "outputs": [],
   "source": [
    "# -*- coding: utf-8 -*-\n",
    "%matplotlib inline\n",
    "from IPython.display import clear_output\n",
    "from utils.agent import *\n",
    "from utils.dataset import *\n",
    "from utils.models import *\n",
    "\n",
    "\n",
    "import math\n",
    "import random\n",
    "import numpy as np\n",
    "import matplotlib\n",
    "import matplotlib.pyplot as plt\n",
    "from collections import namedtuple\n",
    "from itertools import count\n",
    "from PIL import Image\n",
    "import torch.optim as optim\n",
    "import cv2 as cv\n",
    "import sys\n",
    "from torch.autograd import Variable\n",
    "import traceback\n",
    "import sys\n",
    "import os\n",
    "import matplotlib.pyplot as plt\n",
    "import matplotlib.patches as patches\n",
    "import random\n",
    "\n",
    "batch_size = 32\n",
    "PATH=\"./datasets/\"\n",
    "\n",
    "train_loader2012, val_loader2012 = read_voc_dataset(download=True, year='2012')\n",
    "train_loader2007, val_loader2007 = read_voc_dataset(download=True, year='2007')\n",
    "\n",
    "\n",
    "agents_per_class = {}\n",
    "datasets_per_class = sort_class_extract([val_loader2007, val_loader2012])\n"
   ]
  },
  {
   "cell_type": "code",
   "execution_count": null,
   "metadata": {},
   "outputs": [],
   "source": [
    "classes = [ 'cat' , 'car' , 'dog' , 'aeroplane'] \n",
    "for classe in classes : \n",
    "    index = random.choice(list(datasets_per_class[classe].keys()))\n",
    "    agent = Agent(classe, alpha=0.15, num_episodes=15, load=True)\n",
    "    for i in range(3):\n",
    "        index = random.choice(list(datasets_per_class[classe].keys()))\n",
    "        image, gt_boxes = extract(index, datasets_per_class[classe])\n",
    "        agent.predict_image(image, plot=True)"
   ]
  }
 ],
 "metadata": {
  "kernelspec": {
   "display_name": "Python 3.8.7 64-bit",
   "metadata": {
    "interpreter": {
     "hash": "f71d188589fa6c8d31fecd7a0393a1752396fa7e40fa8670a86f2731027bd0ac"
    }
   },
   "name": "python3"
  },
  "language_info": {
   "codemirror_mode": {
    "name": "ipython",
    "version": 3
   },
   "file_extension": ".py",
   "mimetype": "text/x-python",
   "name": "python",
   "nbconvert_exporter": "python",
   "pygments_lexer": "ipython3",
   "version": "3.8.7-final"
  },
  "orig_nbformat": 2
 },
 "nbformat": 4,
 "nbformat_minor": 2
}
